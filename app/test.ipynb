{
 "cells": [
  {
   "cell_type": "code",
   "execution_count": 4,
   "id": "3cbb1bf6",
   "metadata": {},
   "outputs": [],
   "source": [
    "import sys\n",
    "import os\n",
    "\n",
    "# Get the absolute path to the 'calculations' folder\n",
    "current_dir = os.path.dirname(\"test.ipynb\")                 \n",
    "project_root = os.path.abspath(os.path.join(current_dir, \"..\"))\n",
    "calculations_path = os.path.join(project_root, \"calculations\")\n",
    "\n",
    "# Add 'calculations' to sys.path\n",
    "sys.path.append(calculations_path)\n",
    "\n",
    "# Now import the class\n",
    "from gifttree import gift_tree"
   ]
  },
  {
   "cell_type": "code",
   "execution_count": 5,
   "id": "d9b002c7",
   "metadata": {},
   "outputs": [
    {
     "data": {
      "text/plain": [
       "np.float64(0.94140625)"
      ]
     },
     "execution_count": 5,
     "metadata": {},
     "output_type": "execute_result"
    }
   ],
   "source": [
    "test = gift_tree(4, 1.9e6)\n",
    "prob_of_profit, fruits, pmf, profits = test.compute_profit_probability()\n",
    "prob_of_profit"
   ]
  }
 ],
 "metadata": {
  "kernelspec": {
   "display_name": "Python 3",
   "language": "python",
   "name": "python3"
  },
  "language_info": {
   "codemirror_mode": {
    "name": "ipython",
    "version": 3
   },
   "file_extension": ".py",
   "mimetype": "text/x-python",
   "name": "python",
   "nbconvert_exporter": "python",
   "pygments_lexer": "ipython3",
   "version": "3.13.3"
  }
 },
 "nbformat": 4,
 "nbformat_minor": 5
}
